{
  "nbformat": 4,
  "nbformat_minor": 0,
  "metadata": {
    "colab": {
      "provenance": []
    },
    "kernelspec": {
      "name": "python3",
      "display_name": "Python 3"
    },
    "language_info": {
      "name": "python"
    }
  },
  "cells": [
    {
      "cell_type": "markdown",
      "source": [
        "# Theory Questions\n"
      ],
      "metadata": {
        "id": "_E3KbRvcCckg"
      }
    },
    {
      "cell_type": "markdown",
      "source": [
        "**Q1. Can we use Bagging for regression problems?**\n",
        "\n",
        "--> Yes, Bagging (Bootstrap Aggregating) can be used for regression problems. In regression, Bagging involves training multiple regression models (like Decision Trees) on different random subsets of the training data (with replacement). The final prediction is obtained by averaging the predictions of all the individual models. This reduces variance and helps in building more robust models.\n",
        "\n",
        "**Q2. What is the difference between multiple model training and single model training?**\n",
        "\n",
        "--> Single model training involves training one algorithm on the complete dataset. In contrast, multiple model training (as in ensemble learning) combines the predictions from several models. Multiple models can reduce overfitting, increase accuracy, and generalize better on unseen data. It takes advantage of the strengths of different models, while a single model may suffer from bias or variance issues.\n",
        "\n",
        "**Q3. Explain the concept of feature randomness in Random Forest.**\n",
        "\n",
        "--> In a Random Forest, feature randomness means that at each decision tree split, a random subset of features is considered instead of all features. This helps in making the trees more diverse and less correlated with each other. This randomness reduces overfitting and leads to better generalization.\n",
        "\n",
        "**Q4. What is OOB (Out-of-Bag) Score?**\n",
        "\n",
        "--> OOB score is an internal validation method used in Bagging and Random Forests. When training each tree, a bootstrap sample (random sample with replacement) is used. The data not included in this sample is called Out-of-Bag data. The OOB score is calculated by testing the model on these OOB samples, providing a reliable performance estimate without using a separate validation set.\n",
        "\n",
        "**Q5. How can you measure the importance of features in a Random Forest model?**\n",
        "\n",
        "--> Feature importance in Random Forest is calculated based on how much each feature decreases the impurity (like Gini index or entropy) across all trees in the forest. A feature that frequently results in large impurity reductions is considered more important. This can be visualized using feature importance plots.\n",
        "\n",
        "**Q6. Explain the working principle of a Bagging Classifier.**\n",
        "\n",
        "--> A Bagging Classifier works by training multiple base classifiers (like Decision Trees) on random subsets of the training data with replacement (bootstrap samples). Each model gives its prediction, and the final output is determined by majority voting (for classification). This helps in reducing variance and overfitting, especially for high-variance models.\n",
        "\n",
        "**Q7. How do you evaluate a Bagging Classifier’s performance?**\n",
        "\n",
        "--> You can evaluate a Bagging Classifier using classification metrics such as accuracy, precision, recall, F1-score, and ROC-AUC. Additionally, the OOB score can be used as an internal validation metric. Cross-validation is also commonly used to assess performance on unseen data.\n",
        "\n",
        "**Q8. How does a Bagging Regressor work?**\n",
        "\n",
        "--> A Bagging Regressor works similarly to the classifier but is used for continuous output. It trains multiple regression models (e.g., Decision Tree Regressors) on different bootstrap samples and combines their outputs by averaging the predictions. This approach reduces variance and increases robustness.\n",
        "\n",
        "**Q9. What is the main advantage of ensemble techniques?**\n",
        "\n",
        "--> The main advantage of ensemble techniques is improved model performance. They combine multiple models to reduce overfitting, increase accuracy, and improve generalization. Ensembles can often outperform individual models by reducing errors due to bias or variance.\n",
        "\n",
        "**Q10. What is the main challenge of ensemble methods?**\n",
        "\n",
        "--> The main challenge of ensemble methods is increased complexity. They require more computational resources and training time. Also, understanding and interpreting ensemble models (like Random Forests or Boosting) can be harder compared to simpler models like a single Decision Tree.\n",
        "\n",
        "**Q11. Explain the key idea behind ensemble techniques.**\n",
        "\n",
        "--> The key idea of ensemble learning is to combine multiple base models to produce a stronger and more accurate overall model. By aggregating the decisions from diverse models, ensembles can balance out errors made by individual models, leading to better performance and generalization.\n",
        "\n",
        "**Q12. What is a Random Forest Classifier?**\n",
        "\n",
        "--> A Random Forest Classifier is an ensemble learning method that builds multiple Decision Trees using random subsets of the data and features. Each tree gives a prediction, and the final prediction is decided by majority vote. It is robust to overfitting and performs well on both classification and regression tasks.\n",
        "\n",
        "**Q13. What are the main types of ensemble techniques?**\n",
        "\n",
        "--> The three main types of ensemble techniques are:\n",
        "\n",
        "Bagging (e.g., Random Forest) – Reduces variance.\n",
        "\n",
        "Boosting (e.g., AdaBoost, XGBoost) – Reduces bias.\n",
        "\n",
        "Stacking – Combines multiple models using a meta-model.\n",
        "\n",
        "**Q14. What is ensemble learning in machine learning?**\n",
        "\n",
        "--> Ensemble learning is a technique where multiple models (often called \"weak learners\") are combined to create a \"strong learner.\" The idea is that a group of weak models can work together to produce more accurate and reliable predictions than any single model.\n",
        "\n",
        "**Q15. When should we avoid using ensemble methods?**\n",
        "\n",
        "--> You should avoid using ensemble methods when:\n",
        "\n",
        "The dataset is very small and simple models perform well.\n",
        "\n",
        "You need a highly interpretable model.\n",
        "\n",
        "Computational resources are limited.\n",
        "\n",
        "The gain in accuracy is not worth the added complexity.\n",
        "\n",
        "**Q16. How does Bagging help in reducing overfitting?**\n",
        "\n",
        "--> Bagging reduces overfitting by training each model on a different random subset of data, making the models less sensitive to noise. By averaging the predictions (regression) or voting (classification), it smooths out individual fluctuations and errors, resulting in a more generalizable model.\n",
        "\n",
        "**Q17. Why is Random Forest better than a single Decision Tree?**\n",
        "\n",
        "--> Random Forest is better than a single Decision Tree because:\n",
        "\n",
        "It reduces overfitting.\n",
        "\n",
        "It increases accuracy by averaging over many trees.\n",
        "\n",
        "It handles missing values and unbalanced data better.\n",
        "\n",
        "It is more robust and stable due to ensemble averaging.\n",
        "\n",
        "**Q18. What is the role of bootstrap sampling in Bagging?**\n",
        "\n",
        "--> Bootstrap sampling is the process of creating multiple random subsets (with replacement) from the original dataset. Each model in Bagging is trained on a different bootstrap sample, which introduces diversity among the models and helps reduce variance and overfitting.\n",
        "\n",
        "**Q19. What are some real-world applications of ensemble techniques?**\n",
        "\n",
        "--> Real-world applications of ensemble methods include:\n",
        "\n",
        "Fraud detection\n",
        "\n",
        "Medical diagnosis (e.g., cancer detection)\n",
        "\n",
        "Customer churn prediction\n",
        "\n",
        "Stock price prediction\n",
        "\n",
        "Recommender systems\n",
        "\n",
        "Image and speech recognition\n",
        "\n",
        "**Q20. What is the difference between Bagging and Boosting?**\n",
        "\n",
        "--> Bagging and Boosting are both ensemble methods that combine multiple models to improve prediction accuracy, but they differ in how they train and combine these models. Bagging, or Bootstrap Aggregating, trains multiple models independently on different subsets of the data, and then averages their predictions. Boosting, on the other hand, trains models sequentially, with each subsequent model focusing on the errors made by the previous models"
      ],
      "metadata": {
        "id": "FAM06jEGCgws"
      }
    },
    {
      "cell_type": "markdown",
      "source": [
        "# Practical Questions"
      ],
      "metadata": {
        "id": "GS2i2Hp0FCpA"
      }
    },
    {
      "cell_type": "code",
      "source": [
        "#21. Train a Bagging Classifier using Decision Trees on a sample dataset and print model accuracy\n",
        "\n",
        "from sklearn.ensemble import BaggingClassifier\n",
        "from sklearn.tree import DecisionTreeClassifier\n",
        "from sklearn.datasets import load_iris\n",
        "from sklearn.model_selection import train_test_split\n",
        "from sklearn.metrics import accuracy_score\n",
        "\n",
        "X, y = load_iris(return_X_y=True)\n",
        "X_train, X_test, y_train, y_test = train_test_split(X, y, test_size=0.2, random_state=42)\n",
        "\n",
        "model = BaggingClassifier(estimator=DecisionTreeClassifier(), n_estimators=10, random_state=42)\n",
        "model.fit(X_train, y_train)\n",
        "y_pred = model.predict(X_test)\n",
        "\n",
        "print(\"Accuracy:\", accuracy_score(y_test, y_pred))"
      ],
      "metadata": {
        "colab": {
          "base_uri": "https://localhost:8080/"
        },
        "id": "v6fBvexACcJB",
        "outputId": "66cfc32a-f410-4ca2-8000-16736c5b4efc"
      },
      "execution_count": 2,
      "outputs": [
        {
          "output_type": "stream",
          "name": "stdout",
          "text": [
            "Accuracy: 1.0\n"
          ]
        }
      ]
    },
    {
      "cell_type": "code",
      "source": [
        "#22. Train a Bagging Regressor using Decision Trees and evaluate using Mean Squared Error (MSE)\n",
        "\n",
        "from sklearn.ensemble import BaggingRegressor\n",
        "from sklearn.tree import DecisionTreeRegressor\n",
        "from sklearn.datasets import load_diabetes\n",
        "from sklearn.metrics import mean_squared_error\n",
        "\n",
        "X, y = load_diabetes(return_X_y=True)\n",
        "X_train, X_test, y_train, y_test = train_test_split(X, y, test_size=0.2, random_state=42)\n",
        "\n",
        "reg = BaggingRegressor(estimator=DecisionTreeRegressor(), n_estimators=10, random_state=42)\n",
        "reg.fit(X_train, y_train)\n",
        "y_pred = reg.predict(X_test)\n",
        "\n",
        "print(\"MSE:\", mean_squared_error(y_test, y_pred))"
      ],
      "metadata": {
        "colab": {
          "base_uri": "https://localhost:8080/"
        },
        "id": "qSS6I_GOFwWB",
        "outputId": "5c291101-cf9b-4411-aad9-fb05b9d9f9f3"
      },
      "execution_count": 4,
      "outputs": [
        {
          "output_type": "stream",
          "name": "stdout",
          "text": [
            "MSE: 3256.961797752809\n"
          ]
        }
      ]
    },
    {
      "cell_type": "code",
      "source": [
        "#23. Train a Random Forest Classifier on the Breast Cancer dataset and print feature importance scores\n",
        "\n",
        "from sklearn.ensemble import RandomForestClassifier\n",
        "from sklearn.datasets import load_breast_cancer\n",
        "\n",
        "data = load_breast_cancer()\n",
        "X, y = data.data, data.target\n",
        "\n",
        "X_train, X_test, y_train, y_test = train_test_split(X, y, test_size=0.2, random_state=42)\n",
        "\n",
        "clf = RandomForestClassifier(n_estimators=100, random_state=42)\n",
        "clf.fit(X_train, y_train)\n",
        "\n",
        "importances = clf.feature_importances_\n",
        "for name, score in zip(data.feature_names, importances):\n",
        "    print(f\"{name}: {score:.4f}\")"
      ],
      "metadata": {
        "colab": {
          "base_uri": "https://localhost:8080/"
        },
        "id": "SQYCPzPTGLKe",
        "outputId": "1ce32507-ac98-432f-ce91-532958dd95f8"
      },
      "execution_count": 5,
      "outputs": [
        {
          "output_type": "stream",
          "name": "stdout",
          "text": [
            "mean radius: 0.0487\n",
            "mean texture: 0.0136\n",
            "mean perimeter: 0.0533\n",
            "mean area: 0.0476\n",
            "mean smoothness: 0.0073\n",
            "mean compactness: 0.0139\n",
            "mean concavity: 0.0680\n",
            "mean concave points: 0.1062\n",
            "mean symmetry: 0.0038\n",
            "mean fractal dimension: 0.0039\n",
            "radius error: 0.0201\n",
            "texture error: 0.0047\n",
            "perimeter error: 0.0113\n",
            "area error: 0.0224\n",
            "smoothness error: 0.0043\n",
            "compactness error: 0.0053\n",
            "concavity error: 0.0094\n",
            "concave points error: 0.0035\n",
            "symmetry error: 0.0040\n",
            "fractal dimension error: 0.0053\n",
            "worst radius: 0.0780\n",
            "worst texture: 0.0217\n",
            "worst perimeter: 0.0671\n",
            "worst area: 0.1539\n",
            "worst smoothness: 0.0106\n",
            "worst compactness: 0.0203\n",
            "worst concavity: 0.0318\n",
            "worst concave points: 0.1447\n",
            "worst symmetry: 0.0101\n",
            "worst fractal dimension: 0.0052\n"
          ]
        }
      ]
    },
    {
      "cell_type": "code",
      "source": [
        "#24. Train a Random Forest Regressor and compare its performance with a single Decision Tree\n",
        "\n",
        "from sklearn.tree import DecisionTreeRegressor\n",
        "from sklearn.ensemble import RandomForestRegressor\n",
        "\n",
        "dt = DecisionTreeRegressor()\n",
        "rf = RandomForestRegressor(n_estimators=100, random_state=42)\n",
        "\n",
        "dt.fit(X_train, y_train)\n",
        "rf.fit(X_train, y_train)\n",
        "\n",
        "dt_pred = dt.predict(X_test)\n",
        "rf_pred = rf.predict(X_test)\n",
        "\n",
        "print(\"Decision Tree MSE:\", mean_squared_error(y_test, dt_pred))\n",
        "print(\"Random Forest MSE:\", mean_squared_error(y_test, rf_pred))"
      ],
      "metadata": {
        "colab": {
          "base_uri": "https://localhost:8080/"
        },
        "id": "vzi4bl0sGVA9",
        "outputId": "f3049d35-8d71-48c0-9269-74800a7cc0bc"
      },
      "execution_count": 6,
      "outputs": [
        {
          "output_type": "stream",
          "name": "stdout",
          "text": [
            "Decision Tree MSE: 0.07017543859649122\n",
            "Random Forest MSE: 0.03276140350877193\n"
          ]
        }
      ]
    },
    {
      "cell_type": "code",
      "source": [
        "#25. Compute the Out-of-Bag (OOB) Score for a Random Forest Classifier\n",
        "\n",
        "clf = RandomForestClassifier(n_estimators=100, oob_score=True, random_state=42)\n",
        "clf.fit(X_train, y_train)\n",
        "\n",
        "print(\"OOB Score:\", clf.oob_score_)"
      ],
      "metadata": {
        "colab": {
          "base_uri": "https://localhost:8080/"
        },
        "id": "wrHvs9oQGZo2",
        "outputId": "da899aef-5656-4b91-c65f-b294d21b4047"
      },
      "execution_count": 7,
      "outputs": [
        {
          "output_type": "stream",
          "name": "stdout",
          "text": [
            "OOB Score: 0.9560439560439561\n"
          ]
        }
      ]
    },
    {
      "cell_type": "code",
      "source": [
        "#26. Train a Bagging Classifier using SVM as a base estimator and print accuracy\n",
        "\n",
        "from sklearn.svm import SVC\n",
        "\n",
        "bag_svm = BaggingClassifier(estimator=SVC(), n_estimators=10, random_state=42)\n",
        "bag_svm.fit(X_train, y_train)\n",
        "\n",
        "y_pred = bag_svm.predict(X_test)\n",
        "print(\"Accuracy:\", accuracy_score(y_test, y_pred))"
      ],
      "metadata": {
        "colab": {
          "base_uri": "https://localhost:8080/"
        },
        "id": "y08PCbrmGd03",
        "outputId": "2c85797f-9d0d-4626-cd04-02cbce5d108f"
      },
      "execution_count": 9,
      "outputs": [
        {
          "output_type": "stream",
          "name": "stdout",
          "text": [
            "Accuracy: 0.9473684210526315\n"
          ]
        }
      ]
    },
    {
      "cell_type": "code",
      "source": [
        "#27. Train a Random Forest Classifier with different numbers of trees and compare accuracy\n",
        "\n",
        "for n in [10, 50, 100, 200]:\n",
        "    model = RandomForestClassifier(n_estimators=n, random_state=42)\n",
        "    model.fit(X_train, y_train)\n",
        "    acc = model.score(X_test, y_test)\n",
        "    print(f\"{n} Trees - Accuracy: {acc:.4f}\")\n",
        ""
      ],
      "metadata": {
        "colab": {
          "base_uri": "https://localhost:8080/"
        },
        "id": "cV-DtSgPGi9M",
        "outputId": "8ffda9be-660a-482f-e1b0-9910fdb8c2c0"
      },
      "execution_count": 10,
      "outputs": [
        {
          "output_type": "stream",
          "name": "stdout",
          "text": [
            "10 Trees - Accuracy: 0.9561\n",
            "50 Trees - Accuracy: 0.9649\n",
            "100 Trees - Accuracy: 0.9649\n",
            "200 Trees - Accuracy: 0.9649\n"
          ]
        }
      ]
    },
    {
      "cell_type": "code",
      "source": [
        "#28. Train a Bagging Classifier using Logistic Regression as a base estimator and print AUC score\n",
        "\n",
        "from sklearn.preprocessing import StandardScaler\n",
        "from sklearn.pipeline import make_pipeline\n",
        "\n",
        "log_reg = make_pipeline(\n",
        "    StandardScaler(),\n",
        "    LogisticRegression(max_iter=2000)  # Scaled + higher max_iter\n",
        ")\n",
        "\n",
        "model = BaggingClassifier(\n",
        "    estimator=log_reg,\n",
        "    n_estimators=10,\n",
        "    random_state=42\n",
        ")\n",
        "\n",
        "model.fit(X_train, y_train)\n",
        "probs = model.predict_proba(X_test)[:, 1]\n",
        "\n",
        "print(\"AUC Score:\", roc_auc_score(y_test, probs))"
      ],
      "metadata": {
        "colab": {
          "base_uri": "https://localhost:8080/"
        },
        "id": "s4zrOdiXGon5",
        "outputId": "d93a3e29-f47d-49af-95fa-9a34b07adff3"
      },
      "execution_count": 16,
      "outputs": [
        {
          "output_type": "stream",
          "name": "stdout",
          "text": [
            "AUC Score: 0.9963969865705864\n"
          ]
        }
      ]
    },
    {
      "cell_type": "code",
      "source": [
        "#29. Train a Random Forest Regressor and analyze feature importance scores\n",
        "\n",
        "reg = RandomForestRegressor(n_estimators=100, random_state=42)\n",
        "reg.fit(X_train, y_train)\n",
        "\n",
        "importances = reg.feature_importances_\n",
        "for i, val in enumerate(importances):\n",
        "    print(f\"Feature {i}: Importance = {val:.4f}\")"
      ],
      "metadata": {
        "colab": {
          "base_uri": "https://localhost:8080/"
        },
        "id": "6GtIfDk9GtGR",
        "outputId": "954b78e3-8666-4e37-e37a-069be722a441"
      },
      "execution_count": 13,
      "outputs": [
        {
          "output_type": "stream",
          "name": "stdout",
          "text": [
            "Feature 0: Importance = 0.0014\n",
            "Feature 1: Importance = 0.0211\n",
            "Feature 2: Importance = 0.0025\n",
            "Feature 3: Importance = 0.0051\n",
            "Feature 4: Importance = 0.0067\n",
            "Feature 5: Importance = 0.0008\n",
            "Feature 6: Importance = 0.0047\n",
            "Feature 7: Importance = 0.2028\n",
            "Feature 8: Importance = 0.0027\n",
            "Feature 9: Importance = 0.0021\n",
            "Feature 10: Importance = 0.0037\n",
            "Feature 11: Importance = 0.0038\n",
            "Feature 12: Importance = 0.0039\n",
            "Feature 13: Importance = 0.0102\n",
            "Feature 14: Importance = 0.0035\n",
            "Feature 15: Importance = 0.0017\n",
            "Feature 16: Importance = 0.0066\n",
            "Feature 17: Importance = 0.0033\n",
            "Feature 18: Importance = 0.0035\n",
            "Feature 19: Importance = 0.0053\n",
            "Feature 20: Importance = 0.1035\n",
            "Feature 21: Importance = 0.0255\n",
            "Feature 22: Importance = 0.1589\n",
            "Feature 23: Importance = 0.1182\n",
            "Feature 24: Importance = 0.0085\n",
            "Feature 25: Importance = 0.0018\n",
            "Feature 26: Importance = 0.0118\n",
            "Feature 27: Importance = 0.2699\n",
            "Feature 28: Importance = 0.0042\n",
            "Feature 29: Importance = 0.0024\n"
          ]
        }
      ]
    },
    {
      "cell_type": "code",
      "source": [
        "#30. Train an ensemble model using both Bagging and Random Forest and compare accuracy\n",
        "\n",
        "bag = BaggingClassifier(estimator=DecisionTreeClassifier(), n_estimators=10, random_state=42)\n",
        "rf = RandomForestClassifier(n_estimators=100, random_state=42)\n",
        "\n",
        "bag.fit(X_train, y_train)\n",
        "rf.fit(X_train, y_train)\n",
        "\n",
        "print(\"Bagging Accuracy:\", bag.score(X_test, y_test))\n",
        "print(\"Random Forest Accuracy:\", rf.score(X_test, y_test))"
      ],
      "metadata": {
        "colab": {
          "base_uri": "https://localhost:8080/"
        },
        "id": "fRi_-JRlG_a_",
        "outputId": "4ca430f7-6464-4325-a8b0-576e7181d925"
      },
      "execution_count": 14,
      "outputs": [
        {
          "output_type": "stream",
          "name": "stdout",
          "text": [
            "Bagging Accuracy: 0.956140350877193\n",
            "Random Forest Accuracy: 0.9649122807017544\n"
          ]
        }
      ]
    },
    {
      "cell_type": "code",
      "source": [
        "#31. Train a Random Forest Classifier and tune hyperparameters using GridSearchCV\n",
        "\n",
        "from sklearn.model_selection import GridSearchCV\n",
        "\n",
        "param_grid = {\n",
        "    'n_estimators': [50, 100],\n",
        "    'max_depth': [None, 10, 20],\n",
        "    'min_samples_split': [2, 5]\n",
        "}\n",
        "\n",
        "grid = GridSearchCV(RandomForestClassifier(random_state=42), param_grid, cv=3)\n",
        "grid.fit(X_train, y_train)\n",
        "\n",
        "print(\"Best Parameters:\", grid.best_params_)\n",
        "print(\"Best Accuracy:\", grid.best_score_)"
      ],
      "metadata": {
        "colab": {
          "base_uri": "https://localhost:8080/"
        },
        "id": "jBuRy2u5HFPn",
        "outputId": "8703cf2c-0fcb-4644-b7f1-621f492f7329"
      },
      "execution_count": 17,
      "outputs": [
        {
          "output_type": "stream",
          "name": "stdout",
          "text": [
            "Best Parameters: {'max_depth': None, 'min_samples_split': 5, 'n_estimators': 50}\n",
            "Best Accuracy: 0.9582026257697223\n"
          ]
        }
      ]
    },
    {
      "cell_type": "code",
      "source": [
        "#32. Train a Bagging Regressor with different numbers of base estimators and compare performance\n",
        "\n",
        "for n in [10, 50, 100]:\n",
        "    reg = BaggingRegressor(n_estimators=n, random_state=42)\n",
        "    reg.fit(X_train, y_train)\n",
        "    pred = reg.predict(X_test)\n",
        "    print(f\"{n} Estimators - MSE: {mean_squared_error(y_test, pred):.4f}\")"
      ],
      "metadata": {
        "colab": {
          "base_uri": "https://localhost:8080/"
        },
        "id": "RBcF7kGgHfMS",
        "outputId": "5a60a3ef-6d37-4757-f66f-8ca7aa7aa74a"
      },
      "execution_count": 18,
      "outputs": [
        {
          "output_type": "stream",
          "name": "stdout",
          "text": [
            "10 Estimators - MSE: 0.0375\n",
            "50 Estimators - MSE: 0.0336\n",
            "100 Estimators - MSE: 0.0320\n"
          ]
        }
      ]
    },
    {
      "cell_type": "code",
      "source": [
        "#33. Train a Random Forest Classifier and analyze misclassified samples\n",
        "\n",
        "y_pred = clf.predict(X_test)\n",
        "misclassified = X_test[y_pred != y_test]\n",
        "print(\"Number of misclassified samples:\", len(misclassified))"
      ],
      "metadata": {
        "colab": {
          "base_uri": "https://localhost:8080/"
        },
        "id": "xIrdUO8HHjuc",
        "outputId": "cf8535a8-3f6f-484d-ca95-9247a9426f7e"
      },
      "execution_count": 19,
      "outputs": [
        {
          "output_type": "stream",
          "name": "stdout",
          "text": [
            "Number of misclassified samples: 4\n"
          ]
        }
      ]
    },
    {
      "cell_type": "code",
      "source": [
        "#34. Train a Bagging Classifier and compare its performance with a single Decision Tree Classifier\n",
        "\n",
        "dt = DecisionTreeClassifier()\n",
        "bag = BaggingClassifier(estimator=dt, n_estimators=10, random_state=42)\n",
        "\n",
        "dt.fit(X_train, y_train)\n",
        "bag.fit(X_train, y_train)\n",
        "\n",
        "print(\"Decision Tree Accuracy:\", dt.score(X_test, y_test))\n",
        "print(\"Bagging Accuracy:\", bag.score(X_test, y_test))"
      ],
      "metadata": {
        "colab": {
          "base_uri": "https://localhost:8080/"
        },
        "id": "CCFyAGKFHn0A",
        "outputId": "47d5084f-cf53-4022-b1be-7ddf8b883dd9"
      },
      "execution_count": 21,
      "outputs": [
        {
          "output_type": "stream",
          "name": "stdout",
          "text": [
            "Decision Tree Accuracy: 0.9473684210526315\n",
            "Bagging Accuracy: 0.956140350877193\n"
          ]
        }
      ]
    },
    {
      "cell_type": "code",
      "source": [
        "#35. Train a Random Forest Classifier and visualize the confusion matrix\n",
        "\n",
        "from sklearn.metrics import ConfusionMatrixDisplay\n",
        "\n",
        "clf = RandomForestClassifier(random_state=42)\n",
        "clf.fit(X_train, y_train)\n",
        "ConfusionMatrixDisplay.from_estimator(clf, X_test, y_test)"
      ],
      "metadata": {
        "colab": {
          "base_uri": "https://localhost:8080/",
          "height": 472
        },
        "id": "rr9sugAhHrcw",
        "outputId": "51c722f2-f056-42c3-9202-46ed32f1c3fd"
      },
      "execution_count": 22,
      "outputs": [
        {
          "output_type": "execute_result",
          "data": {
            "text/plain": [
              "<sklearn.metrics._plot.confusion_matrix.ConfusionMatrixDisplay at 0x7979dc44eb10>"
            ]
          },
          "metadata": {},
          "execution_count": 22
        },
        {
          "output_type": "display_data",
          "data": {
            "text/plain": [
              "<Figure size 640x480 with 2 Axes>"
            ],
            "image/png": "[encoded data removed]"
          },
          "metadata": {}
        }
      ]
    },
    {
      "cell_type": "code",
      "source": [
        "#36. Train a Stacking Classifier using Decision Trees, SVM, and Logistic Regression, and compare accuracy\n",
        "\n",
        "from sklearn.ensemble import StackingClassifier\n",
        "from sklearn.tree import DecisionTreeClassifier\n",
        "from sklearn.svm import SVC\n",
        "from sklearn.linear_model import LogisticRegression\n",
        "from sklearn.preprocessing import StandardScaler\n",
        "from sklearn.pipeline import make_pipeline\n",
        "from sklearn.datasets import load_breast_cancer\n",
        "from sklearn.model_selection import train_test_split\n",
        "\n",
        "# Load data\n",
        "X, y = load_breast_cancer(return_X_y=True)\n",
        "X_train, X_test, y_train, y_test = train_test_split(X, y, test_size=0.2, random_state=42)\n",
        "\n",
        "# Base models with scaling where needed\n",
        "estimators = [\n",
        "    ('dt', DecisionTreeClassifier()),\n",
        "    ('svm', make_pipeline(StandardScaler(), SVC(probability=True))),\n",
        "    ('lr', make_pipeline(StandardScaler(), LogisticRegression(max_iter=2000)))\n",
        "]\n",
        "\n",
        "# Final meta-learner (default is LogisticRegression, you can also scale it if needed)\n",
        "stack = StackingClassifier(estimators=estimators, final_estimator=LogisticRegression(max_iter=2000))\n",
        "stack.fit(X_train, y_train)\n",
        "\n",
        "print(\"Stacking Accuracy:\", stack.score(X_test, y_test))"
      ],
      "metadata": {
        "colab": {
          "base_uri": "https://localhost:8080/"
        },
        "id": "kAPSOge7HxWo",
        "outputId": "8058494c-c5ca-463c-d051-4330fe2ae2c8"
      },
      "execution_count": 35,
      "outputs": [
        {
          "output_type": "stream",
          "name": "stdout",
          "text": [
            "Stacking Accuracy: 0.9736842105263158\n"
          ]
        }
      ]
    },
    {
      "cell_type": "code",
      "source": [
        "#37. Train a Random Forest Classifier and print the top 5 most important features\n",
        "\n",
        "import numpy as np\n",
        "\n",
        "clf = RandomForestClassifier(random_state=42)\n",
        "clf.fit(X_train, y_train)\n",
        "\n",
        "importances = clf.feature_importances_\n",
        "top_indices = np.argsort(importances)[-5:][::-1]\n",
        "\n",
        "for i in top_indices:\n",
        "    print(f\"Feature {i} - Importance: {importances[i]:.4f}\")"
      ],
      "metadata": {
        "colab": {
          "base_uri": "https://localhost:8080/"
        },
        "id": "fDdPSmgxH01l",
        "outputId": "76bf847c-cfe2-4a71-dfd5-5ebb9253bf71"
      },
      "execution_count": 24,
      "outputs": [
        {
          "output_type": "stream",
          "name": "stdout",
          "text": [
            "Feature 23 - Importance: 0.1539\n",
            "Feature 27 - Importance: 0.1447\n",
            "Feature 7 - Importance: 0.1062\n",
            "Feature 20 - Importance: 0.0780\n",
            "Feature 6 - Importance: 0.0680\n"
          ]
        }
      ]
    },
    {
      "cell_type": "code",
      "source": [
        "#38. Train a Bagging Classifier and evaluate performance using Precision, Recall, and F1-score\n",
        "\n",
        "from sklearn.metrics import classification_report\n",
        "\n",
        "bag = BaggingClassifier(estimator=DecisionTreeClassifier(), n_estimators=10, random_state=42)\n",
        "bag.fit(X_train, y_train)\n",
        "y_pred = bag.predict(X_test)\n",
        "\n",
        "print(classification_report(y_test, y_pred))"
      ],
      "metadata": {
        "colab": {
          "base_uri": "https://localhost:8080/"
        },
        "id": "F5pnpTgEH8Es",
        "outputId": "2aea5f24-931b-4e27-a192-c19db3687c65"
      },
      "execution_count": 26,
      "outputs": [
        {
          "output_type": "stream",
          "name": "stdout",
          "text": [
            "              precision    recall  f1-score   support\n",
            "\n",
            "           0       0.95      0.93      0.94        43\n",
            "           1       0.96      0.97      0.97        71\n",
            "\n",
            "    accuracy                           0.96       114\n",
            "   macro avg       0.96      0.95      0.95       114\n",
            "weighted avg       0.96      0.96      0.96       114\n",
            "\n"
          ]
        }
      ]
    },
    {
      "cell_type": "code",
      "source": [
        "#39. Train a Random Forest Classifier and analyze the effect of max_depth on accuracy\n",
        "\n",
        "for depth in [3, 5, 10, None]:\n",
        "    model = RandomForestClassifier(max_depth=depth, random_state=42)\n",
        "    model.fit(X_train, y_train)\n",
        "    acc = model.score(X_test, y_test)\n",
        "    print(f\"Max Depth = {depth} -> Accuracy: {acc:.4f}\")"
      ],
      "metadata": {
        "colab": {
          "base_uri": "https://localhost:8080/"
        },
        "id": "6CfvtRh7H_VH",
        "outputId": "3f3507c1-f464-4ee1-80bf-6993cd69038e"
      },
      "execution_count": 27,
      "outputs": [
        {
          "output_type": "stream",
          "name": "stdout",
          "text": [
            "Max Depth = 3 -> Accuracy: 0.9649\n",
            "Max Depth = 5 -> Accuracy: 0.9649\n",
            "Max Depth = 10 -> Accuracy: 0.9649\n",
            "Max Depth = None -> Accuracy: 0.9649\n"
          ]
        }
      ]
    },
    {
      "cell_type": "code",
      "source": [
        "#40. Train a Bagging Regressor using different base estimators (DecisionTree and KNeighbors) and compare performance\n",
        "\n",
        "from sklearn.neighbors import KNeighborsRegressor\n",
        "\n",
        "for base in [DecisionTreeRegressor(), KNeighborsRegressor()]:\n",
        "    name = type(base).__name__\n",
        "    bag = BaggingRegressor(estimator=base, n_estimators=10, random_state=42)\n",
        "    bag.fit(X_train, y_train)\n",
        "    pred = bag.predict(X_test)\n",
        "    print(f\"{name} - MSE: {mean_squared_error(y_test, pred):.4f}\")"
      ],
      "metadata": {
        "colab": {
          "base_uri": "https://localhost:8080/"
        },
        "id": "7x6G1YRHIEFx",
        "outputId": "8472d4f4-5e86-4734-e511-8871c711cab0"
      },
      "execution_count": 29,
      "outputs": [
        {
          "output_type": "stream",
          "name": "stdout",
          "text": [
            "DecisionTreeRegressor - MSE: 0.0375\n",
            "KNeighborsRegressor - MSE: 0.0294\n"
          ]
        }
      ]
    },
    {
      "cell_type": "code",
      "source": [
        "#41. Train a Random Forest Classifier and evaluate its performance using ROC-AUC Score\n",
        "\n",
        "from sklearn.metrics import roc_auc_score\n",
        "\n",
        "clf = RandomForestClassifier(random_state=42)\n",
        "clf.fit(X_train, y_train)\n",
        "probs = clf.predict_proba(X_test)[:, 1]\n",
        "\n",
        "print(\"ROC-AUC Score:\", roc_auc_score(y_test, probs))"
      ],
      "metadata": {
        "colab": {
          "base_uri": "https://localhost:8080/"
        },
        "id": "UbkRUDrLIH2M",
        "outputId": "4792a7f9-21c4-4d5a-fd63-cb4b240008a2"
      },
      "execution_count": 30,
      "outputs": [
        {
          "output_type": "stream",
          "name": "stdout",
          "text": [
            "ROC-AUC Score: 0.9952505732066819\n"
          ]
        }
      ]
    },
    {
      "cell_type": "code",
      "source": [
        "#42. Train a Bagging Classifier and evaluate its performance using cross-validation\n",
        "\n",
        "from sklearn.model_selection import cross_val_score\n",
        "\n",
        "bag = BaggingClassifier(estimator=DecisionTreeClassifier(), n_estimators=10, random_state=42)\n",
        "scores = cross_val_score(bag, X, y, cv=5)\n",
        "\n",
        "print(\"Cross-Validation Scores:\", scores)\n",
        "print(\"Mean Accuracy:\", scores.mean())"
      ],
      "metadata": {
        "colab": {
          "base_uri": "https://localhost:8080/"
        },
        "id": "FqcT5TwjINFi",
        "outputId": "95590159-25b0-4301-c538-d47fc3e1ba69"
      },
      "execution_count": 31,
      "outputs": [
        {
          "output_type": "stream",
          "name": "stdout",
          "text": [
            "Cross-Validation Scores: [0.92982456 0.93859649 0.97368421 0.93859649 0.97345133]\n",
            "Mean Accuracy: 0.9508306163639186\n"
          ]
        }
      ]
    },
    {
      "cell_type": "code",
      "source": [
        "#43. Train a Random Forest Classifier and plot the Precision-Recall curve\n",
        "\n",
        "from sklearn.metrics import precision_recall_curve, PrecisionRecallDisplay\n",
        "\n",
        "clf = RandomForestClassifier(random_state=42)\n",
        "clf.fit(X_train, y_train)\n",
        "probs = clf.predict_proba(X_test)[:, 1]\n",
        "\n",
        "precision, recall, _ = precision_recall_curve(y_test, probs)\n",
        "disp = PrecisionRecallDisplay(precision=precision, recall=recall)\n",
        "disp.plot()"
      ],
      "metadata": {
        "colab": {
          "base_uri": "https://localhost:8080/",
          "height": 468
        },
        "id": "6S8BY_XvIR3p",
        "outputId": "9fb2b45e-b985-44a1-dcf4-8a0934ee13be"
      },
      "execution_count": 32,
      "outputs": [
        {
          "output_type": "execute_result",
          "data": {
            "text/plain": [
              "<sklearn.metrics._plot.precision_recall_curve.PrecisionRecallDisplay at 0x7979d98f5510>"
            ]
          },
          "metadata": {},
          "execution_count": 32
        },
        {
          "output_type": "display_data",
          "data": {
            "text/plain": [
              "<Figure size 640x480 with 1 Axes>"
            ],
            "image/png": "[encoded data removed]"
          },
          "metadata": {}
        }
      ]
    },
    {
      "cell_type": "code",
      "source": [
        "#44. Train a Stacking Classifier with Random Forest and Logistic Regression and compare accuracy\n",
        "\n",
        "from sklearn.ensemble import StackingClassifier, RandomForestClassifier\n",
        "from sklearn.linear_model import LogisticRegression\n",
        "from sklearn.pipeline import make_pipeline\n",
        "from sklearn.preprocessing import StandardScaler\n",
        "from sklearn.model_selection import train_test_split\n",
        "from sklearn.datasets import load_breast_cancer\n",
        "from sklearn.metrics import accuracy_score\n",
        "\n",
        "X, y = load_breast_cancer(return_X_y=True)\n",
        "X_train, X_test, y_train, y_test = train_test_split(X, y, test_size=0.2, random_state=42)\n",
        "\n",
        "# Base estimators\n",
        "estimators = [\n",
        "    ('rf', RandomForestClassifier()),\n",
        "    ('lr', make_pipeline(StandardScaler(), LogisticRegression(max_iter=2000)))\n",
        "]\n",
        "\n",
        "# Meta-learner with scaling too\n",
        "final_estimator = make_pipeline(StandardScaler(), LogisticRegression(max_iter=2000))\n",
        "\n",
        "stack = StackingClassifier(estimators=estimators, final_estimator=final_estimator)\n",
        "stack.fit(X_train, y_train)\n",
        "\n",
        "print(\"Stacking Accuracy:\", stack.score(X_test, y_test))"
      ],
      "metadata": {
        "colab": {
          "base_uri": "https://localhost:8080/"
        },
        "id": "I_p40KXWIWrT",
        "outputId": "b873e060-b812-474e-c3b0-4dba8a56a42e"
      },
      "execution_count": 36,
      "outputs": [
        {
          "output_type": "stream",
          "name": "stdout",
          "text": [
            "Stacking Accuracy: 0.9736842105263158\n"
          ]
        }
      ]
    },
    {
      "cell_type": "code",
      "source": [
        "#45. Train a Bagging Regressor with different levels of bootstrap samples and compare performance.\n",
        "\n",
        "for bootstrap in [True, False]:\n",
        "    reg = BaggingRegressor(n_estimators=10, bootstrap=bootstrap, random_state=42)\n",
        "    reg.fit(X_train, y_train)\n",
        "    pred = reg.predict(X_test)\n",
        "    print(f\"Bootstrap={bootstrap} - MSE: {mean_squared_error(y_test, pred):.4f}\")"
      ],
      "metadata": {
        "colab": {
          "base_uri": "https://localhost:8080/"
        },
        "id": "CWnmyjE0IZ9J",
        "outputId": "a6618fc2-cd91-4ea1-bf33-dcc2df773ff7"
      },
      "execution_count": 34,
      "outputs": [
        {
          "output_type": "stream",
          "name": "stdout",
          "text": [
            "Bootstrap=True - MSE: 0.0375\n",
            "Bootstrap=False - MSE: 0.0583\n"
          ]
        }
      ]
    }
  ]
}